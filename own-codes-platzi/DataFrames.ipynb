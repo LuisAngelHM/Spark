{
 "cells": [
  {
   "cell_type": "code",
   "execution_count": 1,
   "id": "14de4972",
   "metadata": {},
   "outputs": [],
   "source": [
    "from pyspark import SparkContext\n",
    "from pyspark.sql import SparkSession\n",
    "\n",
    "from pyspark.sql.types import StructType,StructField, IntegerType, StringType, FloatType, Row"
   ]
  },
  {
   "cell_type": "code",
   "execution_count": 2,
   "id": "7ca4070d",
   "metadata": {},
   "outputs": [
    {
     "name": "stderr",
     "output_type": "stream",
     "text": [
      "Using Spark's default log4j profile: org/apache/spark/log4j-defaults.properties\n",
      "Setting default log level to \"WARN\".\n",
      "To adjust logging level use sc.setLogLevel(newLevel). For SparkR, use setLogLevel(newLevel).\n",
      "22/03/28 12:46:38 WARN NativeCodeLoader: Unable to load native-hadoop library for your platform... using builtin-java classes where applicable\n",
      "22/03/28 12:46:39 WARN Utils: Service 'SparkUI' could not bind on port 4040. Attempting port 4041.\n"
     ]
    }
   ],
   "source": [
    "spark = SparkSession.builder\\\n",
    "     .master(\"local\") \\\n",
    "     .appName(\"DataFrames\")\\\n",
    "     .getOrCreate()\n",
    "        "
   ]
  },
  {
   "cell_type": "code",
   "execution_count": 3,
   "id": "b137542a",
   "metadata": {},
   "outputs": [],
   "source": [
    "path = \"../../../practicas/curso-apache-spark-platzi/files/\""
   ]
  },
  {
   "cell_type": "code",
   "execution_count": 18,
   "id": "60658ca8",
   "metadata": {},
   "outputs": [],
   "source": [
    "juegoSchema = StructType([\n",
    "        StructField(\"\", IntegerType(), False),\n",
    "        StructField(\"nombre_juego\", StringType(), False),\n",
    "        StructField(\"annio\", StringType(), False),\n",
    "        StructField(\"temporada\", StringType(), False),\n",
    "        StructField(\"ciudad\", StringType(), False),\n",
    "])"
   ]
  },
  {
   "cell_type": "code",
   "execution_count": 19,
   "id": "286647da",
   "metadata": {},
   "outputs": [],
   "source": [
    "data =  spark.read \\\n",
    "        .schema(juegoSchema) \\\n",
    "        .option(\"header\", \"true\") \\\n",
    "        .csv(path+\"juegos.csv\")"
   ]
  },
  {
   "cell_type": "code",
   "execution_count": 21,
   "id": "2ee357f1",
   "metadata": {},
   "outputs": [
    {
     "name": "stdout",
     "output_type": "stream",
     "text": [
      "+---+------------+-----+---------+---------+\n",
      "|   |nombre_juego|annio|temporada|   ciudad|\n",
      "+---+------------+-----+---------+---------+\n",
      "|  1| 1896 Verano| 1896|   Verano|   Athina|\n",
      "|  2| 1900 Verano| 1900|   Verano|    Paris|\n",
      "|  3| 1904 Verano| 1904|   Verano|St. Louis|\n",
      "|  4| 1906 Verano| 1906|   Verano|   Athina|\n",
      "+---+------------+-----+---------+---------+\n",
      "only showing top 4 rows\n",
      "\n"
     ]
    }
   ],
   "source": [
    "data.show(4)"
   ]
  },
  {
   "cell_type": "code",
   "execution_count": 22,
   "id": "57b076ab",
   "metadata": {},
   "outputs": [
    {
     "data": {
      "text/html": [
       "\n",
       "            <div>\n",
       "                <p><b>SparkSession - in-memory</b></p>\n",
       "                \n",
       "        <div>\n",
       "            <p><b>SparkContext</b></p>\n",
       "\n",
       "            <p><a href=\"http://facturatechhm:4041\">Spark UI</a></p>\n",
       "\n",
       "            <dl>\n",
       "              <dt>Version</dt>\n",
       "                <dd><code>v3.2.1</code></dd>\n",
       "              <dt>Master</dt>\n",
       "                <dd><code>local</code></dd>\n",
       "              <dt>AppName</dt>\n",
       "                <dd><code>DataFrames</code></dd>\n",
       "            </dl>\n",
       "        </div>\n",
       "        \n",
       "            </div>\n",
       "        "
      ],
      "text/plain": [
       "<pyspark.sql.session.SparkSession at 0x7f176980b310>"
      ]
     },
     "execution_count": 22,
     "metadata": {},
     "output_type": "execute_result"
    }
   ],
   "source": [
    "spark"
   ]
  }
 ],
 "metadata": {
  "kernelspec": {
   "display_name": "spark",
   "language": "python",
   "name": "spark"
  },
  "language_info": {
   "codemirror_mode": {
    "name": "ipython",
    "version": 3
   },
   "file_extension": ".py",
   "mimetype": "text/x-python",
   "name": "python",
   "nbconvert_exporter": "python",
   "pygments_lexer": "ipython3",
   "version": "3.10.2"
  }
 },
 "nbformat": 4,
 "nbformat_minor": 5
}
