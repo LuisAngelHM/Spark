{
 "cells": [
  {
   "cell_type": "code",
   "execution_count": 1,
   "id": "b7501791",
   "metadata": {},
   "outputs": [],
   "source": [
    "from pyspark import SparkContext"
   ]
  },
  {
   "cell_type": "code",
   "execution_count": 4,
   "id": "89294cb9",
   "metadata": {},
   "outputs": [
    {
     "name": "stderr",
     "output_type": "stream",
     "text": [
      "Using Spark's default log4j profile: org/apache/spark/log4j-defaults.properties\n",
      "Setting default log level to \"WARN\".\n",
      "To adjust logging level use sc.setLogLevel(newLevel). For SparkR, use setLogLevel(newLevel).\n",
      "22/03/28 12:57:19 WARN NativeCodeLoader: Unable to load native-hadoop library for your platform... using builtin-java classes where applicable\n",
      "22/03/28 12:57:20 WARN Utils: Service 'SparkUI' could not bind on port 4040. Attempting port 4041.\n",
      "22/03/28 12:57:20 WARN Utils: Service 'SparkUI' could not bind on port 4041. Attempting port 4042.\n"
     ]
    }
   ],
   "source": [
    "spark = SparkContext(master=\"local\", appName=\"RDDtoDF\")"
   ]
  },
  {
   "cell_type": "code",
   "execution_count": 5,
   "id": "48b2eeba",
   "metadata": {},
   "outputs": [],
   "source": [
    "path = \"../../../practicas/curso-apache-spark-platzi/files/\""
   ]
  },
  {
   "cell_type": "code",
   "execution_count": 23,
   "id": "5ebf171b",
   "metadata": {},
   "outputs": [],
   "source": [
    "jugadoresOlimpicosRDD = spark.textFile(path+\"deportista.csv\").map(lambda l: l.split(\",\"))\n",
    "jugadoresOlimpicosRDD2 = spark.textFile(path+\"deportista2.csv\").map(lambda k: k.split(\",\"))\n",
    "jugadoresOlimpicosRDD = jugadoresOlimpicosRDD.union(jugadoresOlimpicosRDD2)"
   ]
  },
  {
   "cell_type": "code",
   "execution_count": 25,
   "id": "1b668b21",
   "metadata": {},
   "outputs": [
    {
     "data": {
      "text/plain": [
       "[['deportista_id', 'nombre', 'genero', 'edad', 'altura', 'peso', 'equipo_id'],\n",
       " ['1', 'A Dijiang', '1', '24', '180', '80', '199'],\n",
       " ['2', 'A Lamusi', '1', '23', '170', '60', '199'],\n",
       " ['3', 'Gunnar Nielsen Aaby', '1', '24', '0', '0', '273'],\n",
       " ['4', 'Edgar Lindenau Aabye', '1', '34', '0', '0', '278']]"
      ]
     },
     "execution_count": 25,
     "metadata": {},
     "output_type": "execute_result"
    }
   ],
   "source": [
    "jugadoresOlimpicosRDD.take(5)"
   ]
  },
  {
   "cell_type": "code",
   "execution_count": 24,
   "id": "6b0ad933",
   "metadata": {},
   "outputs": [],
   "source": [
    "def EliminaEncabezado(indice, interador):\n",
    "    return iter(list(interador)[1:])"
   ]
  },
  {
   "cell_type": "code",
   "execution_count": 26,
   "id": "7c2b8936",
   "metadata": {},
   "outputs": [],
   "source": [
    "jugadoresOlimpicosRDD = jugadoresOlimpicosRDD.mapPartitionsWithIndex(EliminaEncabezado)"
   ]
  },
  {
   "cell_type": "code",
   "execution_count": 27,
   "id": "c5a297da",
   "metadata": {},
   "outputs": [
    {
     "data": {
      "text/plain": [
       "[['1', 'A Dijiang', '1', '24', '180', '80', '199'],\n",
       " ['2', 'A Lamusi', '1', '23', '170', '60', '199'],\n",
       " ['3', 'Gunnar Nielsen Aaby', '1', '24', '0', '0', '273'],\n",
       " ['4', 'Edgar Lindenau Aabye', '1', '34', '0', '0', '278'],\n",
       " ['5', 'Christine Jacoba Aaftink', '2', '21', '185', '82', '705']]"
      ]
     },
     "execution_count": 27,
     "metadata": {},
     "output_type": "execute_result"
    }
   ],
   "source": [
    "jugadoresOlimpicosRDD.take(5)"
   ]
  },
  {
   "cell_type": "code",
   "execution_count": 28,
   "id": "c00ff164",
   "metadata": {},
   "outputs": [],
   "source": [
    "jugadoresOlimpicosRDD=jugadoresOlimpicosRDD.map(lambda l: (          \n",
    "    int(l[0]),\n",
    "    l[1],\n",
    "    int(l[2]),\n",
    "    int(l[3]),\n",
    "    int(l[4]),\n",
    "    float(l[5]),\n",
    "    int(l[6])                        \n",
    "))"
   ]
  },
  {
   "cell_type": "code",
   "execution_count": 31,
   "id": "2c31b70a",
   "metadata": {},
   "outputs": [],
   "source": [
    "from pyspark.sql import SparkSession\n",
    "from pyspark.sql import SQLContext\n",
    "from pyspark.sql.types import StructType, StructField, IntegerType, StringType, FloatType, Row"
   ]
  },
  {
   "cell_type": "code",
   "execution_count": 33,
   "id": "80c65391",
   "metadata": {},
   "outputs": [
    {
     "ename": "ImportError",
     "evalue": "cannot import name 'sqlContext' from 'pyspark.sql' (/home/facturatech/spark/lib/python3.10/site-packages/pyspark/sql/__init__.py)",
     "output_type": "error",
     "traceback": [
      "\u001b[0;31m---------------------------------------------------------------------------\u001b[0m",
      "\u001b[0;31mImportError\u001b[0m                               Traceback (most recent call last)",
      "Input \u001b[0;32mIn [33]\u001b[0m, in \u001b[0;36m<cell line: 1>\u001b[0;34m()\u001b[0m\n\u001b[0;32m----> 1\u001b[0m \u001b[38;5;28;01mfrom\u001b[39;00m \u001b[38;5;21;01mpyspark\u001b[39;00m\u001b[38;5;21;01m.\u001b[39;00m\u001b[38;5;21;01msql\u001b[39;00m \u001b[38;5;28;01mimport\u001b[39;00m sqlContext\n",
      "\u001b[0;31mImportError\u001b[0m: cannot import name 'sqlContext' from 'pyspark.sql' (/home/facturatech/spark/lib/python3.10/site-packages/pyspark/sql/__init__.py)"
     ]
    }
   ],
   "source": []
  },
  {
   "cell_type": "code",
   "execution_count": 32,
   "id": "9bb91cd3",
   "metadata": {},
   "outputs": [],
   "source": [
    "SchemaJugadores = StructType([\n",
    "    StructField(\"jugador_id\", IntegerType(), False),\n",
    "    StructField(\"nombre\", StringType(), False),\n",
    "    StructField(\"genero\", IntegerType(), False),\n",
    "    StructField(\"edad\", IntegerType(), False),\n",
    "    StructField(\"altura\", IntegerType(), False),\n",
    "    StructField(\"peso\", FloatType(), False),\n",
    "    StructField(\"equipo_id\", IntegerType(), False)\n",
    "])"
   ]
  },
  {
   "cell_type": "code",
   "execution_count": 38,
   "id": "6521d5a1",
   "metadata": {},
   "outputs": [],
   "source": [
    "sqlContext = SparkSession(spark);"
   ]
  },
  {
   "cell_type": "code",
   "execution_count": 39,
   "id": "5766a663",
   "metadata": {},
   "outputs": [
    {
     "name": "stdout",
     "output_type": "stream",
     "text": [
      "+----------+--------------------+------+----+------+----+---------+\n",
      "|jugador_id|              nombre|genero|edad|altura|peso|equipo_id|\n",
      "+----------+--------------------+------+----+------+----+---------+\n",
      "|         1|           A Dijiang|     1|  24|   180|80.0|      199|\n",
      "|         2|            A Lamusi|     1|  23|   170|60.0|      199|\n",
      "|         3| Gunnar Nielsen Aaby|     1|  24|     0| 0.0|      273|\n",
      "|         4|Edgar Lindenau Aabye|     1|  34|     0| 0.0|      278|\n",
      "|         5|Christine Jacoba ...|     2|  21|   185|82.0|      705|\n",
      "+----------+--------------------+------+----+------+----+---------+\n",
      "only showing top 5 rows\n",
      "\n"
     ]
    }
   ],
   "source": [
    "sqlContext.createDataFrame(jugadoresOlimpicosRDD,SchemaJugadores).show(5)"
   ]
  },
  {
   "cell_type": "code",
   "execution_count": 40,
   "id": "3d15e111",
   "metadata": {},
   "outputs": [],
   "source": [
    "sqlContext.stop()"
   ]
  },
  {
   "cell_type": "code",
   "execution_count": null,
   "id": "3d2f438e",
   "metadata": {},
   "outputs": [],
   "source": []
  }
 ],
 "metadata": {
  "kernelspec": {
   "display_name": "Python 3 (ipykernel)",
   "language": "python",
   "name": "python3"
  },
  "language_info": {
   "codemirror_mode": {
    "name": "ipython",
    "version": 3
   },
   "file_extension": ".py",
   "mimetype": "text/x-python",
   "name": "python",
   "nbconvert_exporter": "python",
   "pygments_lexer": "ipython3",
   "version": "3.10.2"
  }
 },
 "nbformat": 4,
 "nbformat_minor": 5
}
