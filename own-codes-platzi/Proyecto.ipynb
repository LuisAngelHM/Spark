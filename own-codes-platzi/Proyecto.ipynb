{
 "cells": [
  {
   "cell_type": "code",
   "execution_count": 1,
   "id": "3e3b27ba",
   "metadata": {},
   "outputs": [],
   "source": [
    "from pyspark.sql import SparkSession\n",
    "from pyspark.sql.types import StructType, StructField, StringType, IntegerType, FloatType, Row"
   ]
  },
  {
   "cell_type": "code",
   "execution_count": 2,
   "id": "f25bee79",
   "metadata": {},
   "outputs": [
    {
     "name": "stderr",
     "output_type": "stream",
     "text": [
      "22/03/28 22:05:05 WARN Utils: Your hostname, luishm resolves to a loopback address: 127.0.1.1; using 192.168.0.117 instead (on interface wlp7s0)\n",
      "22/03/28 22:05:05 WARN Utils: Set SPARK_LOCAL_IP if you need to bind to another address\n",
      "WARNING: An illegal reflective access operation has occurred\n",
      "WARNING: Illegal reflective access by org.apache.spark.unsafe.Platform (file:/home/luis/spark/lib/python3.9/site-packages/pyspark/jars/spark-unsafe_2.12-3.2.1.jar) to constructor java.nio.DirectByteBuffer(long,int)\n",
      "WARNING: Please consider reporting this to the maintainers of org.apache.spark.unsafe.Platform\n",
      "WARNING: Use --illegal-access=warn to enable warnings of further illegal reflective access operations\n",
      "WARNING: All illegal access operations will be denied in a future release\n",
      "Using Spark's default log4j profile: org/apache/spark/log4j-defaults.properties\n",
      "Setting default log level to \"WARN\".\n",
      "To adjust logging level use sc.setLogLevel(newLevel). For SparkR, use setLogLevel(newLevel).\n",
      "22/03/28 22:05:06 WARN NativeCodeLoader: Unable to load native-hadoop library for your platform... using builtin-java classes where applicable\n"
     ]
    }
   ],
   "source": [
    "spark = SparkSession.builder \\\n",
    "        .master(\"local\") \\\n",
    "        .appName(\"Proyecto\") \\\n",
    "        .getOrCreate()"
   ]
  },
  {
   "cell_type": "code",
   "execution_count": 3,
   "id": "6503cb8c",
   "metadata": {},
   "outputs": [],
   "source": [
    "path_vaio = \"../../curso-apache-spark-platzi/files/\""
   ]
  },
  {
   "cell_type": "code",
   "execution_count": 9,
   "id": "fcd87669",
   "metadata": {},
   "outputs": [],
   "source": [
    "path_factura = \"../../../practicas/curso-apache-spark-platzi/files/\""
   ]
  },
  {
   "cell_type": "code",
   "execution_count": 4,
   "id": "3ba63708",
   "metadata": {},
   "outputs": [
    {
     "name": "stderr",
     "output_type": "stream",
     "text": [
      "\r",
      "[Stage 0:>                                                          (0 + 1) / 1]\r"
     ]
    },
    {
     "name": "stdout",
     "output_type": "stream",
     "text": [
      "+---+--------------------+-----+\n",
      "| id|              equipo|sigla|\n",
      "+---+--------------------+-----+\n",
      "|  1|         30. Februar|  AUT|\n",
      "|  2|A North American ...|  MEX|\n",
      "|  3|           Acipactli|  MEX|\n",
      "|  4|             Acturus|  ARG|\n",
      "|  5|         Afghanistan|  AFG|\n",
      "+---+--------------------+-----+\n",
      "only showing top 5 rows\n",
      "\n"
     ]
    },
    {
     "name": "stderr",
     "output_type": "stream",
     "text": [
      "\r",
      "                                                                                \r"
     ]
    }
   ],
   "source": [
    "equiposSchema = StructType([\n",
    "    StructField(\"id\", IntegerType(), False),\n",
    "    StructField(\"equipo\", StringType(), False),\n",
    "    StructField(\"sigla\", StringType(), False),\n",
    "])\n",
    "\n",
    "equiposDF = spark.read \\\n",
    "            .schema(equiposSchema) \\\n",
    "            .option(\"header\", \"true\") \\\n",
    "            .csv(path_vaio+\"paises.csv\")\n",
    "equiposDF.show(5)\n"
   ]
  },
  {
   "cell_type": "code",
   "execution_count": 32,
   "id": "136fa4c2",
   "metadata": {},
   "outputs": [
    {
     "name": "stdout",
     "output_type": "stream",
     "text": [
      "+-------------+--------------------+------+----+------+----+---------+\n",
      "|deportista_id|              nombre|genero|edad|altura|peso|equipo_id|\n",
      "+-------------+--------------------+------+----+------+----+---------+\n",
      "|            1|           A Dijiang|     1|  24|   180|80.0|      199|\n",
      "|            2|            A Lamusi|     1|  23|   170|60.0|      199|\n",
      "|            3| Gunnar Nielsen Aaby|     1|  24|     0| 0.0|      273|\n",
      "|            4|Edgar Lindenau Aabye|     1|  34|     0| 0.0|      278|\n",
      "|            5|Christine Jacoba ...|     2|  21|   185|82.0|      705|\n",
      "+-------------+--------------------+------+----+------+----+---------+\n",
      "only showing top 5 rows\n",
      "\n"
     ]
    }
   ],
   "source": [
    "SchemaJugadores = StructType([\n",
    "    StructField(\"deportista_id\", IntegerType(), False),\n",
    "    StructField(\"nombre\", StringType(), False),\n",
    "    StructField(\"genero\", IntegerType(), False),\n",
    "    StructField(\"edad\", IntegerType(), False),\n",
    "    StructField(\"altura\", IntegerType(), False),\n",
    "    StructField(\"peso\", FloatType(), False),\n",
    "    StructField(\"equipo_id\", IntegerType(), False)\n",
    "])\n",
    "jugadoresDF = spark.read \\\n",
    "            .schema(SchemaJugadores) \\\n",
    "            .option(\"header\", \"true\") \\\n",
    "            .csv(path_vaio+\"deportista.csv\")\n",
    "\n",
    "jugadores2DF = spark.read \\\n",
    "            .schema(SchemaJugadores) \\\n",
    "            .option(\"header\", \"true\") \\\n",
    "            .csv(path_vaio+\"deportista2.csv\")\n",
    "jugadoresDF = jugadoresDF.union(jugadores2DF)\n",
    "jugadoresDF.show(5)"
   ]
  },
  {
   "cell_type": "code",
   "execution_count": 6,
   "id": "acffcd0f",
   "metadata": {},
   "outputs": [
    {
     "name": "stdout",
     "output_type": "stream",
     "text": [
      "+------------+-------+-------------+--------+---------+\n",
      "|resultado_id|medalla|deportista_id|juego_id|evento_id|\n",
      "+------------+-------+-------------+--------+---------+\n",
      "|           1|     NA|            1|      39|        1|\n",
      "|           2|     NA|            2|      49|        2|\n",
      "|           3|     NA|            3|       7|        3|\n",
      "|           4|   Gold|            4|       2|        4|\n",
      "|           5|     NA|            5|      36|        5|\n",
      "+------------+-------+-------------+--------+---------+\n",
      "only showing top 5 rows\n",
      "\n"
     ]
    }
   ],
   "source": [
    "resultadosSchema = StructType([\n",
    "    StructField(\"resultado_id\", IntegerType(), False),\n",
    "    StructField(\"medalla\", StringType(), False),\n",
    "    StructField(\"deportista_id\", IntegerType(), False),\n",
    "    StructField(\"juego_id\", IntegerType(), False),\n",
    "    StructField(\"evento_id\", IntegerType(), False),\n",
    "])\n",
    "\n",
    "resultadosDF = spark.read \\\n",
    "            .schema(resultadosSchema) \\\n",
    "            .option(\"header\", \"true\") \\\n",
    "            .csv(path_vaio+\"resultados.csv\")\n",
    "resultadosDF.show(5)"
   ]
  },
  {
   "cell_type": "code",
   "execution_count": 7,
   "id": "1096be29",
   "metadata": {},
   "outputs": [
    {
     "data": {
      "text/plain": [
       "[Row(deporte_id=1, deporte='Basketball'), Row(deporte_id=2, deporte='Judo')]"
      ]
     },
     "execution_count": 7,
     "metadata": {},
     "output_type": "execute_result"
    }
   ],
   "source": [
    "deporteSchema = StructType([\n",
    "    StructField(\"deporte_id\", IntegerType(), False),\n",
    "    StructField(\"deporte\", StringType(), False)\n",
    "])\n",
    "\n",
    "\n",
    "deportesDF = spark.read \\\n",
    "             .schema(deporteSchema) \\\n",
    "             .option(\"header\", \"true\")\\\n",
    "             .csv(path_vaio+\"deporte.csv\")\n",
    "deportesDF.take(2)\n"
   ]
  },
  {
   "cell_type": "code",
   "execution_count": 11,
   "id": "2efeaa1c",
   "metadata": {},
   "outputs": [
    {
     "data": {
      "text/plain": [
       "[Row(evento_id=1, evento=\"Basketball Men's Basketball\", deporte_id=1),\n",
       " Row(evento_id=2, evento=\"Judo Men's Extra-Lightweight\", deporte_id=2),\n",
       " Row(evento_id=3, evento=\"Football Men's Football\", deporte_id=3),\n",
       " Row(evento_id=4, evento=\"Tug-Of-War Men's Tug-Of-War\", deporte_id=4),\n",
       " Row(evento_id=5, evento=\"Speed Skating Women's 500 metres\", deporte_id=5)]"
      ]
     },
     "execution_count": 11,
     "metadata": {},
     "output_type": "execute_result"
    }
   ],
   "source": [
    "eventoSchema = StructType([\n",
    "    StructField(\"evento_id\", IntegerType(), False),\n",
    "    StructField(\"evento\", StringType(), False),\n",
    "    StructField(\"deporte_id\", IntegerType(), False)\n",
    "])\n",
    "\n",
    "eventosDF = spark.read\\\n",
    "           .schema(eventoSchema) \\\n",
    "           .option(\"header\", \"true\") \\\n",
    "           .csv(path_vaio+\"evento.csv\")\n",
    "\n",
    "eventosDF.take(5)\n"
   ]
  },
  {
   "cell_type": "code",
   "execution_count": 38,
   "id": "4095fb10",
   "metadata": {},
   "outputs": [
    {
     "name": "stderr",
     "output_type": "stream",
     "text": [
      "22/03/28 22:27:02 WARN CSVHeaderChecker: Number of column in CSV header is not equal to number of fields in the schema:\n",
      " Header length: 5, schema size: 4\n",
      "CSV file: file:///home/luis/Documentos/Spark/curso-apache-spark-platzi/files/juegos.csv\n"
     ]
    },
    {
     "data": {
      "text/plain": [
       "[Row(juego_id=1, anio='1896 Verano', temporada='1896', ciudad='Verano')]"
      ]
     },
     "execution_count": 38,
     "metadata": {},
     "output_type": "execute_result"
    }
   ],
   "source": [
    "juegoSchema = StructType([\n",
    "    StructField(\"juego_id\", IntegerType(), False),\n",
    "    StructField(\"anio\", StringType(), False),\n",
    "    StructField(\"temporada\", StringType(), False),\n",
    "    StructField(\"ciudad\", StringType(), False)\n",
    "])\n",
    "\n",
    "juegosDF = spark.read \\\n",
    "            .schema(juegoSchema)\\\n",
    "            .option(\"header\", \"true\")\\\n",
    "            .csv(path_vaio+\"juegos.csv\")\n",
    "            \n",
    "juegosDF.take(1)"
   ]
  },
  {
   "cell_type": "code",
   "execution_count": 13,
   "id": "628adec3",
   "metadata": {},
   "outputs": [],
   "source": [
    "data_list = eventosDF.take(eventosDF.count())"
   ]
  },
  {
   "cell_type": "code",
   "execution_count": 16,
   "id": "9164a9d1",
   "metadata": {},
   "outputs": [
    {
     "name": "stdout",
     "output_type": "stream",
     "text": [
      "[6, \"Speed Skating Women's 1,000 metres\", 5]\n"
     ]
    }
   ],
   "source": [
    "print(list(data_list[5]))"
   ]
  },
  {
   "cell_type": "code",
   "execution_count": 17,
   "id": "b4fb1c50",
   "metadata": {},
   "outputs": [
    {
     "name": "stdout",
     "output_type": "stream",
     "text": [
      "root\n",
      " |-- evento_id: integer (nullable = true)\n",
      " |-- evento: string (nullable = true)\n",
      " |-- deporte_id: integer (nullable = true)\n",
      "\n"
     ]
    }
   ],
   "source": [
    "eventosDF.printSchema()"
   ]
  },
  {
   "cell_type": "markdown",
   "id": "02f7379f",
   "metadata": {},
   "source": [
    "### Eliminar y renombrar columnas en un dataframe "
   ]
  },
  {
   "cell_type": "code",
   "execution_count": 18,
   "id": "43c68334",
   "metadata": {},
   "outputs": [],
   "source": [
    "jugadoresDF = jugadoresDF.withColumnRenamed(\"genero\", \"sexo\").drop(\"altura\")"
   ]
  },
  {
   "cell_type": "code",
   "execution_count": 19,
   "id": "5b404057",
   "metadata": {},
   "outputs": [
    {
     "name": "stdout",
     "output_type": "stream",
     "text": [
      "root\n",
      " |-- deportista_id: integer (nullable = true)\n",
      " |-- nombre: string (nullable = true)\n",
      " |-- sexo: integer (nullable = true)\n",
      " |-- edad: integer (nullable = true)\n",
      " |-- peso: float (nullable = true)\n",
      " |-- equipo_id: integer (nullable = true)\n",
      "\n"
     ]
    }
   ],
   "source": [
    "jugadoresDF.printSchema()"
   ]
  },
  {
   "cell_type": "code",
   "execution_count": 20,
   "id": "2d614aa9",
   "metadata": {},
   "outputs": [],
   "source": [
    "from pyspark.sql.functions import col"
   ]
  },
  {
   "cell_type": "code",
   "execution_count": 23,
   "id": "ff65eaf1",
   "metadata": {},
   "outputs": [
    {
     "name": "stdout",
     "output_type": "stream",
     "text": [
      "+-------------+--------------------+-----------+---------+\n",
      "|deportista_id|              nombre|EdadAlJugar|equipo_id|\n",
      "+-------------+--------------------+-----------+---------+\n",
      "|            1|           A Dijiang|         24|      199|\n",
      "|            2|            A Lamusi|         23|      199|\n",
      "|            3| Gunnar Nielsen Aaby|         24|      273|\n",
      "|            4|Edgar Lindenau Aabye|         34|      278|\n",
      "|            5|Christine Jacoba ...|         21|      705|\n",
      "+-------------+--------------------+-----------+---------+\n",
      "only showing top 5 rows\n",
      "\n"
     ]
    }
   ],
   "source": [
    "try: \n",
    "    jugadoresDF=jugadoresDF.select(col(\"deportista_id\"),col(\"nombre\"), col(\"edad\").alias(\"EdadAlJugar\"), col(\"equipo_id\"))\n",
    "    jugadoresDF.show(5)\n",
    "except:\n",
    "    print(\"No existe la columna\")"
   ]
  },
  {
   "cell_type": "code",
   "execution_count": 24,
   "id": "e13e9ce7",
   "metadata": {},
   "outputs": [
    {
     "name": "stderr",
     "output_type": "stream",
     "text": [
      "\r",
      "[Stage 12:>                                                         (0 + 1) / 2]\r",
      "22/03/28 22:09:21 WARN CSVHeaderChecker: CSV header does not conform to the schema.\n",
      " Header: 67787, Lee BongJu, 27, 970\n",
      " Schema: deportista_id, nombre, edad, equipo_id\n",
      "Expected: deportista_id but found: 67787\n",
      "CSV file: file:///home/luis/Documentos/Spark/curso-apache-spark-platzi/files/deportista2.csv\n",
      "\r",
      "[Stage 12:=============================>                            (1 + 1) / 2]\r"
     ]
    },
    {
     "name": "stdout",
     "output_type": "stream",
     "text": [
      "+-------------+--------------------+-----------+---------+\n",
      "|deportista_id|              nombre|EdadAlJugar|equipo_id|\n",
      "+-------------+--------------------+-----------+---------+\n",
      "|           54|Mohamed Jamshid A...|          0|      496|\n",
      "|           58|    Georgi Abadzhiev|          0|      154|\n",
      "|           66|     Mohamed Abakkar|          0|     1003|\n",
      "|          133|           Franz Abb|          0|      399|\n",
      "|          102|   Sayed Fahmy Abaza|          0|      308|\n",
      "|          139|George Ioannis Abbot|          0|     1043|\n",
      "|          163|     Ismail Abdallah|          0|     1095|\n",
      "|          167|Ould Lamine Abdallah|          0|      362|\n",
      "|          173| Mohamed Abdel Fatah|          0|     1003|\n",
      "|          176|Mahmoud Atter Abd...|          0|     1095|\n",
      "+-------------+--------------------+-----------+---------+\n",
      "only showing top 10 rows\n",
      "\n"
     ]
    },
    {
     "name": "stderr",
     "output_type": "stream",
     "text": [
      "\r",
      "                                                                                \r"
     ]
    }
   ],
   "source": [
    "jugadoresDF.sort(\"EdadAlJugar\").show(10)"
   ]
  },
  {
   "cell_type": "code",
   "execution_count": 28,
   "id": "b1377afb",
   "metadata": {},
   "outputs": [
    {
     "name": "stderr",
     "output_type": "stream",
     "text": [
      "22/03/28 22:09:50 WARN CSVHeaderChecker: CSV header does not conform to the schema.\n",
      " Header: 67787, Lee BongJu, 27, 970\n",
      " Schema: deportista_id, nombre, edad, equipo_id\n",
      "Expected: deportista_id but found: 67787\n",
      "CSV file: file:///home/luis/Documentos/Spark/curso-apache-spark-platzi/files/deportista2.csv\n"
     ]
    },
    {
     "name": "stdout",
     "output_type": "stream",
     "text": [
      "+-------------+--------------------+-----------+---------+\n",
      "|deportista_id|              nombre|EdadAlJugar|equipo_id|\n",
      "+-------------+--------------------+-----------+---------+\n",
      "|        71691|  Dimitrios Loundras|         10|      333|\n",
      "|        52070|        Etsuko Inada|         11|      514|\n",
      "|        40129|    Luigina Giavotti|         11|      507|\n",
      "|        37333|Carlos Bienvenido...|         11|      982|\n",
      "|        47618|Sonja Henie Toppi...|         11|      742|\n",
      "+-------------+--------------------+-----------+---------+\n",
      "only showing top 5 rows\n",
      "\n"
     ]
    },
    {
     "name": "stderr",
     "output_type": "stream",
     "text": [
      "\r",
      "[Stage 13:=============================>                            (1 + 1) / 2]\r",
      "\r",
      "                                                                                \r"
     ]
    }
   ],
   "source": [
    "jugadoresDF.sort(\"EdadAlJugar\").filter((jugadoresDF.EdadAlJugar !=0)).show(5)"
   ]
  },
  {
   "cell_type": "code",
   "execution_count": 30,
   "id": "7738fcd1",
   "metadata": {},
   "outputs": [
    {
     "name": "stdout",
     "output_type": "stream",
     "text": [
      "root\n",
      " |-- resultado_id: integer (nullable = true)\n",
      " |-- medalla: string (nullable = true)\n",
      " |-- deportista_id: integer (nullable = true)\n",
      " |-- juego_id: integer (nullable = true)\n",
      " |-- evento_id: integer (nullable = true)\n",
      "\n"
     ]
    }
   ],
   "source": [
    "resultadosDF.printSchema()"
   ]
  },
  {
   "cell_type": "code",
   "execution_count": 33,
   "id": "d2378818",
   "metadata": {},
   "outputs": [
    {
     "name": "stdout",
     "output_type": "stream",
     "text": [
      "root\n",
      " |-- deportista_id: integer (nullable = true)\n",
      " |-- nombre: string (nullable = true)\n",
      " |-- genero: integer (nullable = true)\n",
      " |-- edad: integer (nullable = true)\n",
      " |-- altura: integer (nullable = true)\n",
      " |-- peso: float (nullable = true)\n",
      " |-- equipo_id: integer (nullable = true)\n",
      "\n"
     ]
    }
   ],
   "source": [
    "jugadoresDF.printSchema()"
   ]
  },
  {
   "cell_type": "code",
   "execution_count": 39,
   "id": "f2995170",
   "metadata": {},
   "outputs": [
    {
     "name": "stdout",
     "output_type": "stream",
     "text": [
      "root\n",
      " |-- juego_id: integer (nullable = true)\n",
      " |-- anio: string (nullable = true)\n",
      " |-- temporada: string (nullable = true)\n",
      " |-- ciudad: string (nullable = true)\n",
      "\n"
     ]
    }
   ],
   "source": [
    "juegosDF.printSchema()"
   ]
  },
  {
   "cell_type": "code",
   "execution_count": 40,
   "id": "70a7b225",
   "metadata": {},
   "outputs": [
    {
     "name": "stdout",
     "output_type": "stream",
     "text": [
      "root\n",
      " |-- deporte_id: integer (nullable = true)\n",
      " |-- deporte: string (nullable = true)\n",
      "\n"
     ]
    }
   ],
   "source": [
    "deportesDF.printSchema()"
   ]
  },
  {
   "cell_type": "code",
   "execution_count": 49,
   "id": "799969b6",
   "metadata": {},
   "outputs": [
    {
     "name": "stdout",
     "output_type": "stream",
     "text": [
      "root\n",
      " |-- evento_id: integer (nullable = true)\n",
      " |-- evento: string (nullable = true)\n",
      " |-- deporte_id: integer (nullable = true)\n",
      "\n"
     ]
    }
   ],
   "source": [
    "eventosDF.printSchema()"
   ]
  },
  {
   "cell_type": "code",
   "execution_count": 84,
   "id": "7dfef326",
   "metadata": {},
   "outputs": [
    {
     "name": "stdout",
     "output_type": "stream",
     "text": [
      "root\n",
      " |-- id: integer (nullable = true)\n",
      " |-- equipo: string (nullable = true)\n",
      " |-- sigla: string (nullable = true)\n",
      "\n"
     ]
    }
   ],
   "source": [
    "equiposDF.printSchema()"
   ]
  },
  {
   "cell_type": "code",
   "execution_count": 67,
   "id": "e782b4d8",
   "metadata": {},
   "outputs": [
    {
     "name": "stderr",
     "output_type": "stream",
     "text": [
      "22/03/28 23:02:44 WARN CSVHeaderChecker: CSV header does not conform to the schema.\n",
      " Header: , nombre_juego\n",
      " Schema: juego_id, anio\n",
      "Expected: juego_id but found: \n",
      "CSV file: file:///home/luis/Documentos/Spark/curso-apache-spark-platzi/files/juegos.csv\n",
      "22/03/28 23:02:45 WARN CSVHeaderChecker: CSV header does not conform to the schema.\n",
      " Header: 67787, Lee BongJu, 27\n",
      " Schema: deportista_id, nombre, edad\n",
      "Expected: deportista_id but found: 67787\n",
      "CSV file: file:///home/luis/Documentos/Spark/curso-apache-spark-platzi/files/deportista2.csv\n",
      "                                                                                \r"
     ]
    }
   ],
   "source": [
    "datalistjoin = list(jugadoresDF.join(resultadosDF,jugadoresDF.deportista_id == resultadosDF.deportista_id,\"left\") \\\n",
    "    .join(juegosDF,juegosDF.juego_id == resultadosDF.juego_id,\"left\") \\\n",
    "    .join(eventosDF,eventosDF.evento_id == resultadosDF.evento_id,\"left\") \\\n",
    "    .select(jugadoresDF.nombre.alias(\"Nombre Jugador\"), col(\"edad\").alias(\"EdadAlJugar\"), \"medalla\", col(\"anio\").alias(\"Año de Juego\"), eventosDF.evento.alias(\"disciplina\")).collect())\n"
   ]
  },
  {
   "cell_type": "code",
   "execution_count": 83,
   "id": "988e62d3",
   "metadata": {},
   "outputs": [
    {
     "name": "stderr",
     "output_type": "stream",
     "text": [
      "22/03/28 23:06:55 WARN CSVHeaderChecker: CSV header does not conform to the schema.\n",
      " Header: \n",
      " Schema: juego_id\n",
      "Expected: juego_id but found: \n",
      "CSV file: file:///home/luis/Documentos/Spark/curso-apache-spark-platzi/files/juegos.csv\n",
      "22/03/28 23:06:56 WARN CSVHeaderChecker: CSV header does not conform to the schema.\n",
      " Header: 67787\n",
      " Schema: deportista_id\n",
      "Expected: deportista_id but found: 67787\n",
      "CSV file: file:///home/luis/Documentos/Spark/curso-apache-spark-platzi/files/deportista2.csv\n"
     ]
    },
    {
     "data": {
      "text/plain": [
       "271112"
      ]
     },
     "execution_count": 83,
     "metadata": {},
     "output_type": "execute_result"
    }
   ],
   "source": [
    "jugadoresDF.join(resultadosDF,jugadoresDF.deportista_id == resultadosDF.deportista_id,\"left\") \\\n",
    "    .join(juegosDF,juegosDF.juego_id == resultadosDF.juego_id,\"left\") \\\n",
    "    .join(eventosDF,eventosDF.evento_id == resultadosDF.evento_id,\"left\") \\\n",
    "    .select(jugadoresDF.nombre.alias(\"Nombre Jugador\"), col(\"edad\").alias(\"EdadAlJugar\"), \"medalla\", col(\"anio\").alias(\"Año de Juego\"), eventosDF.evento.alias(\"disciplina\")).count()\n"
   ]
  },
  {
   "cell_type": "code",
   "execution_count": 82,
   "id": "bab8807b",
   "metadata": {},
   "outputs": [
    {
     "name": "stdout",
     "output_type": "stream",
     "text": [
      "Existen 271112 en esta lista\n",
      "['A Dijiang', 24, 'NA', '1992 Verano', \"Basketball Men's Basketball\"]\n",
      "['A Lamusi', 23, 'NA', '2012 Verano', \"Judo Men's Extra-Lightweight\"]\n",
      "['Gunnar Nielsen Aaby', 24, 'NA', '1920 Verano', \"Football Men's Football\"]\n",
      "['Edgar Lindenau Aabye', 34, 'Gold', '1900 Verano', \"Tug-Of-War Men's Tug-Of-War\"]\n",
      "['Christine Jacoba Aaftink', 21, 'NA', '1994 Invierno', \"Speed Skating Women's 1,000 metres\"]\n"
     ]
    }
   ],
   "source": [
    "print(\"Existen {} registros en esta lista\".format(len(datalistjoin)))\n",
    "for i in datalistjoin[:5]:\n",
    "    print(list(i))"
   ]
  },
  {
   "cell_type": "code",
   "execution_count": 96,
   "id": "6e6064d1",
   "metadata": {},
   "outputs": [
    {
     "name": "stderr",
     "output_type": "stream",
     "text": [
      "22/03/28 23:21:54 WARN CSVHeaderChecker: CSV header does not conform to the schema.\n",
      " Header: 67787, 970\n",
      " Schema: deportista_id, equipo_id\n",
      "Expected: deportista_id but found: 67787\n",
      "CSV file: file:///home/luis/Documentos/Spark/curso-apache-spark-platzi/files/deportista2.csv\n"
     ]
    }
   ],
   "source": [
    "datalistjoin2=list(resultadosDF.filter(resultadosDF.medalla!=\"NA\").join(jugadoresDF, resultadosDF.deportista_id == jugadoresDF.deportista_id, \"left\") \\\n",
    ".join(equiposDF, equiposDF.id == jugadoresDF.equipo_id)\\\n",
    ".select(\"medalla\", \"sigla\", \"equipo\")\\\n",
    ".collect())\n"
   ]
  },
  {
   "cell_type": "code",
   "execution_count": 100,
   "id": "edcf9b3d",
   "metadata": {},
   "outputs": [
    {
     "name": "stdout",
     "output_type": "stream",
     "text": [
      "Row(medalla='Silver', sigla='GBR', equipo='Great Britain')\n"
     ]
    }
   ],
   "source": []
  },
  {
   "cell_type": "code",
   "execution_count": null,
   "id": "8f271574",
   "metadata": {},
   "outputs": [],
   "source": []
  }
 ],
 "metadata": {
  "kernelspec": {
   "display_name": "Python 3 (ipykernel)",
   "language": "python",
   "name": "python3"
  },
  "language_info": {
   "codemirror_mode": {
    "name": "ipython",
    "version": 3
   },
   "file_extension": ".py",
   "mimetype": "text/x-python",
   "name": "python",
   "nbconvert_exporter": "python",
   "pygments_lexer": "ipython3",
   "version": "3.9.7"
  }
 },
 "nbformat": 4,
 "nbformat_minor": 5
}
