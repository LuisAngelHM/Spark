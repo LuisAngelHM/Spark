{
 "cells": [
  {
   "cell_type": "code",
   "execution_count": 2,
   "id": "3e3b27ba",
   "metadata": {},
   "outputs": [],
   "source": [
    "from pyspark.sql import SparkSession\n",
    "from pyspark.sql.types import StructType, StructField, StringType, IntegerType, FloatType, Row"
   ]
  },
  {
   "cell_type": "code",
   "execution_count": 5,
   "id": "f25bee79",
   "metadata": {},
   "outputs": [
    {
     "name": "stderr",
     "output_type": "stream",
     "text": [
      "Using Spark's default log4j profile: org/apache/spark/log4j-defaults.properties\n",
      "Setting default log level to \"WARN\".\n",
      "To adjust logging level use sc.setLogLevel(newLevel). For SparkR, use setLogLevel(newLevel).\n",
      "22/03/28 13:50:54 WARN NativeCodeLoader: Unable to load native-hadoop library for your platform... using builtin-java classes where applicable\n",
      "22/03/28 13:50:55 WARN Utils: Service 'SparkUI' could not bind on port 4040. Attempting port 4041.\n",
      "22/03/28 13:50:55 WARN Utils: Service 'SparkUI' could not bind on port 4041. Attempting port 4042.\n",
      "22/03/28 13:50:55 WARN Utils: Service 'SparkUI' could not bind on port 4042. Attempting port 4043.\n"
     ]
    }
   ],
   "source": [
    "spark = SparkSession.builder \\\n",
    "        .master(\"local\") \\\n",
    "        .appName(\"Proyecto\") \\\n",
    "        .getOrCreate()"
   ]
  },
  {
   "cell_type": "code",
   "execution_count": 9,
   "id": "fcd87669",
   "metadata": {},
   "outputs": [],
   "source": [
    "path = \"../../../practicas/curso-apache-spark-platzi/files/\""
   ]
  },
  {
   "cell_type": "code",
   "execution_count": 14,
   "id": "3ba63708",
   "metadata": {},
   "outputs": [
    {
     "name": "stdout",
     "output_type": "stream",
     "text": [
      "+---+--------------------+-----+\n",
      "| id|              equipo|sigla|\n",
      "+---+--------------------+-----+\n",
      "|  1|         30. Februar|  AUT|\n",
      "|  2|A North American ...|  MEX|\n",
      "|  3|           Acipactli|  MEX|\n",
      "|  4|             Acturus|  ARG|\n",
      "|  5|         Afghanistan|  AFG|\n",
      "+---+--------------------+-----+\n",
      "only showing top 5 rows\n",
      "\n"
     ]
    }
   ],
   "source": [
    "equiposSchema = StructType([\n",
    "    StructField(\"id\", IntegerType(), False),\n",
    "    StructField(\"equipo\", StringType(), False),\n",
    "    StructField(\"sigla\", StringType(), False),\n",
    "])\n",
    "\n",
    "equiposDF = spark.read \\\n",
    "            .schema(equiposSchema) \\\n",
    "            .option(\"header\", \"true\") \\\n",
    "            .csv(path+\"paises.csv\")\n",
    "equiposDF.show(5)\n"
   ]
  },
  {
   "cell_type": "code",
   "execution_count": 24,
   "id": "136fa4c2",
   "metadata": {},
   "outputs": [
    {
     "name": "stdout",
     "output_type": "stream",
     "text": [
      "+-------------+--------------------+------+----+------+----+---------+\n",
      "|deportista_id|              nombre|genero|edad|altura|peso|equipo_id|\n",
      "+-------------+--------------------+------+----+------+----+---------+\n",
      "|            1|           A Dijiang|     1|  24|   180|80.0|      199|\n",
      "|            2|            A Lamusi|     1|  23|   170|60.0|      199|\n",
      "|            3| Gunnar Nielsen Aaby|     1|  24|     0| 0.0|      273|\n",
      "|            4|Edgar Lindenau Aabye|     1|  34|     0| 0.0|      278|\n",
      "|            5|Christine Jacoba ...|     2|  21|   185|82.0|      705|\n",
      "+-------------+--------------------+------+----+------+----+---------+\n",
      "only showing top 5 rows\n",
      "\n"
     ]
    }
   ],
   "source": [
    "SchemaJugadores = StructType([\n",
    "    StructField(\"deportista_id\", IntegerType(), False),\n",
    "    StructField(\"nombre\", StringType(), False),\n",
    "    StructField(\"genero\", IntegerType(), False),\n",
    "    StructField(\"edad\", IntegerType(), False),\n",
    "    StructField(\"altura\", IntegerType(), False),\n",
    "    StructField(\"peso\", FloatType(), False),\n",
    "    StructField(\"equipo_id\", IntegerType(), False)\n",
    "])\n",
    "jugadoresDF = spark.read \\\n",
    "            .schema(SchemaJugadores) \\\n",
    "            .option(\"header\", \"true\") \\\n",
    "            .csv(path+\"deportista.csv\")\n",
    "\n",
    "jugadores2DF = spark.read \\\n",
    "            .schema(SchemaJugadores) \\\n",
    "            .option(\"header\", \"true\") \\\n",
    "            .csv(path+\"deportista2.csv\")\n",
    "jugadoresDF = jugadoresDF.union(jugadores2DF)\n",
    "jugadoresDF.show(5)"
   ]
  },
  {
   "cell_type": "code",
   "execution_count": 22,
   "id": "acffcd0f",
   "metadata": {},
   "outputs": [
    {
     "name": "stdout",
     "output_type": "stream",
     "text": [
      "+------------+-------+-------------+--------+---------+\n",
      "|resultado_id|medalla|deportista_id|juego_id|evento_id|\n",
      "+------------+-------+-------------+--------+---------+\n",
      "|           1|     NA|            1|      39|        1|\n",
      "|           2|     NA|            2|      49|        2|\n",
      "|           3|     NA|            3|       7|        3|\n",
      "|           4|   Gold|            4|       2|        4|\n",
      "|           5|     NA|            5|      36|        5|\n",
      "+------------+-------+-------------+--------+---------+\n",
      "only showing top 5 rows\n",
      "\n"
     ]
    }
   ],
   "source": [
    "resultadosSchema = StructType([\n",
    "    StructField(\"resultado_id\", IntegerType(), False),\n",
    "    StructField(\"medalla\", StringType(), False),\n",
    "    StructField(\"deportista_id\", IntegerType(), False),\n",
    "    StructField(\"juego_id\", IntegerType(), False),\n",
    "    StructField(\"evento_id\", IntegerType(), False),\n",
    "])\n",
    "\n",
    "resultadosDF = spark.read \\\n",
    "            .schema(resultadosSchema) \\\n",
    "            .option(\"header\", \"true\") \\\n",
    "            .csv(path+\"resultados.csv\")\n",
    "resultadosDF.show(5)"
   ]
  },
  {
   "cell_type": "code",
   "execution_count": 28,
   "id": "1096be29",
   "metadata": {},
   "outputs": [
    {
     "data": {
      "text/plain": [
       "[Row(deporte_id=1, deporte='Basketball'), Row(deporte_id=2, deporte='Judo')]"
      ]
     },
     "execution_count": 28,
     "metadata": {},
     "output_type": "execute_result"
    }
   ],
   "source": [
    "deporteSchema = StructType([\n",
    "    StructField(\"deporte_id\", IntegerType(), False),\n",
    "    StructField(\"deporte\", StringType(), False)\n",
    "])\n",
    "\n",
    "\n",
    "deportesDF = spark.read \\\n",
    "             .schema(deporteSchema) \\\n",
    "             .option(\"header\", \"true\")\\\n",
    "             .csv(path+\"deporte.csv\")\n",
    "deportesDF.take(2)\n"
   ]
  },
  {
   "cell_type": "code",
   "execution_count": 34,
   "id": "2efeaa1c",
   "metadata": {},
   "outputs": [],
   "source": [
    "eventoSchema = StructType([\n",
    "    StructField(\"evento_id\", IntegerType(), False),\n",
    "    StructField(\"evento\", StringType(), False),\n",
    "    StructField(\"deporte_id\", IntegerType(), False)\n",
    "])\n",
    "\n",
    "eventosDF = spark.read\\\n",
    "           .schema(eventoSchema) \\\n",
    "           .option(\"header\", \"true\") \\\n",
    "           .csv(path+\"evento.csv\")\n",
    "\n",
    "eventosDF.take(5)\n",
    "del eventoDF"
   ]
  },
  {
   "cell_type": "code",
   "execution_count": 33,
   "id": "b4fb1c50",
   "metadata": {},
   "outputs": [
    {
     "name": "stdout",
     "output_type": "stream",
     "text": [
      "root\n",
      " |-- evento_id: integer (nullable = true)\n",
      " |-- evento: string (nullable = true)\n",
      " |-- deporte_id: integer (nullable = true)\n",
      "\n"
     ]
    }
   ],
   "source": [
    "eventosDF.printSchema()"
   ]
  },
  {
   "cell_type": "markdown",
   "id": "02f7379f",
   "metadata": {},
   "source": [
    "### Eliminar y renombrar columnas en un dataframe "
   ]
  },
  {
   "cell_type": "code",
   "execution_count": 35,
   "id": "43c68334",
   "metadata": {},
   "outputs": [],
   "source": [
    "jugadoresDF = jugadoresDF.withColumnRenamed(\"genero\", \"sexo\").drop(\"altura\")"
   ]
  },
  {
   "cell_type": "code",
   "execution_count": 54,
   "id": "5b404057",
   "metadata": {},
   "outputs": [
    {
     "name": "stdout",
     "output_type": "stream",
     "text": [
      "root\n",
      " |-- deportista_id: integer (nullable = true)\n",
      " |-- nombre: string (nullable = true)\n",
      " |-- EdadAlJugar: integer (nullable = true)\n",
      " |-- equipo_id: integer (nullable = true)\n",
      "\n"
     ]
    }
   ],
   "source": [
    "jugadoresDF.printSchema()"
   ]
  },
  {
   "cell_type": "code",
   "execution_count": 44,
   "id": "2d614aa9",
   "metadata": {},
   "outputs": [],
   "source": [
    "from pyspark.sql.functions import col"
   ]
  },
  {
   "cell_type": "code",
   "execution_count": 55,
   "id": "ff65eaf1",
   "metadata": {},
   "outputs": [
    {
     "name": "stdout",
     "output_type": "stream",
     "text": [
      "+-------------+--------------------+-----------+---------+\n",
      "|deportista_id|              nombre|edadAlJugar|equipo_id|\n",
      "+-------------+--------------------+-----------+---------+\n",
      "|            1|           A Dijiang|         24|      199|\n",
      "|            2|            A Lamusi|         23|      199|\n",
      "|            3| Gunnar Nielsen Aaby|         24|      273|\n",
      "|            4|Edgar Lindenau Aabye|         34|      278|\n",
      "|            5|Christine Jacoba ...|         21|      705|\n",
      "+-------------+--------------------+-----------+---------+\n",
      "only showing top 5 rows\n",
      "\n"
     ]
    }
   ],
   "source": [
    "try: \n",
    "    jugadoresDF=jugadoresDF.select(col(\"deportista_id\"),col(\"nombre\"), col(\"edadAlJugar\"), col(\"equipo_id\"))\n",
    "    jugadoresDF.show(5)\n",
    "except:\n",
    "    print(\"No existe la columna\")"
   ]
  },
  {
   "cell_type": "code",
   "execution_count": 56,
   "id": "e13e9ce7",
   "metadata": {},
   "outputs": [
    {
     "name": "stdout",
     "output_type": "stream",
     "text": [
      "+-------------+--------------------+-----------+---------+\n",
      "|deportista_id|              nombre|edadAlJugar|equipo_id|\n",
      "+-------------+--------------------+-----------+---------+\n",
      "|           54|Mohamed Jamshid A...|          0|      496|\n",
      "|           58|    Georgi Abadzhiev|          0|      154|\n",
      "|           66|     Mohamed Abakkar|          0|     1003|\n",
      "|          133|           Franz Abb|          0|      399|\n",
      "|          102|   Sayed Fahmy Abaza|          0|      308|\n",
      "|          139|George Ioannis Abbot|          0|     1043|\n",
      "|          163|     Ismail Abdallah|          0|     1095|\n",
      "|          167|Ould Lamine Abdallah|          0|      362|\n",
      "|          173| Mohamed Abdel Fatah|          0|     1003|\n",
      "|          176|Mahmoud Atter Abd...|          0|     1095|\n",
      "+-------------+--------------------+-----------+---------+\n",
      "only showing top 10 rows\n",
      "\n"
     ]
    },
    {
     "name": "stderr",
     "output_type": "stream",
     "text": [
      "22/03/28 16:02:48 WARN CSVHeaderChecker: CSV header does not conform to the schema.\n",
      " Header: 67787, Lee BongJu, 27, 970\n",
      " Schema: deportista_id, nombre, edad, equipo_id\n",
      "Expected: deportista_id but found: 67787\n",
      "CSV file: file:///home/facturatech/Documentos/practicas/curso-apache-spark-platzi/files/deportista2.csv\n",
      "\r",
      "[Stage 17:=============================>                            (1 + 1) / 2]\r",
      "\r",
      "                                                                                \r"
     ]
    }
   ],
   "source": [
    "jugadoresDF.sort(\"edadAlJugar\").show(10)"
   ]
  },
  {
   "cell_type": "code",
   "execution_count": 59,
   "id": "b1377afb",
   "metadata": {},
   "outputs": [
    {
     "name": "stdout",
     "output_type": "stream",
     "text": [
      "+-------------+--------------------+-----------+---------+\n",
      "|deportista_id|              nombre|edadAlJugar|equipo_id|\n",
      "+-------------+--------------------+-----------+---------+\n",
      "|        71691|  Dimitrios Loundras|         10|      333|\n",
      "|        52070|        Etsuko Inada|         11|      514|\n",
      "|        40129|    Luigina Giavotti|         11|      507|\n",
      "|        37333|Carlos Bienvenido...|         11|      982|\n",
      "|        47618|Sonja Henie Toppi...|         11|      742|\n",
      "+-------------+--------------------+-----------+---------+\n",
      "only showing top 5 rows\n",
      "\n"
     ]
    },
    {
     "name": "stderr",
     "output_type": "stream",
     "text": [
      "22/03/28 16:07:15 WARN CSVHeaderChecker: CSV header does not conform to the schema.\n",
      " Header: 67787, Lee BongJu, 27, 970\n",
      " Schema: deportista_id, nombre, edad, equipo_id\n",
      "Expected: deportista_id but found: 67787\n",
      "CSV file: file:///home/facturatech/Documentos/practicas/curso-apache-spark-platzi/files/deportista2.csv\n"
     ]
    }
   ],
   "source": [
    "jugadoresDF.sort(\"edadAlJugar\").filter((jugadoresDF.edadAlJugar !=0)).show(5)"
   ]
  },
  {
   "cell_type": "code",
   "execution_count": null,
   "id": "7738fcd1",
   "metadata": {},
   "outputs": [],
   "source": []
  }
 ],
 "metadata": {
  "kernelspec": {
   "display_name": "spark",
   "language": "python",
   "name": "spark"
  },
  "language_info": {
   "codemirror_mode": {
    "name": "ipython",
    "version": 3
   },
   "file_extension": ".py",
   "mimetype": "text/x-python",
   "name": "python",
   "nbconvert_exporter": "python",
   "pygments_lexer": "ipython3",
   "version": "3.10.2"
  }
 },
 "nbformat": 4,
 "nbformat_minor": 5
}
