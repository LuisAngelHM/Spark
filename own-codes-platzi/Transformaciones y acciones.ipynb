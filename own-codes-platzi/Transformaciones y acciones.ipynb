{
 "cells": [
  {
   "cell_type": "code",
   "execution_count": 5,
   "id": "a286c364",
   "metadata": {},
   "outputs": [],
   "source": [
    "from pyspark import SparkContext"
   ]
  },
  {
   "cell_type": "code",
   "execution_count": 6,
   "id": "d53cbd9d",
   "metadata": {},
   "outputs": [
    {
     "name": "stderr",
     "output_type": "stream",
     "text": [
      "22/03/27 21:15:50 WARN Utils: Your hostname, luishm resolves to a loopback address: 127.0.1.1; using 192.168.0.117 instead (on interface wlp7s0)\n",
      "22/03/27 21:15:50 WARN Utils: Set SPARK_LOCAL_IP if you need to bind to another address\n",
      "WARNING: An illegal reflective access operation has occurred\n",
      "WARNING: Illegal reflective access by org.apache.spark.unsafe.Platform (file:/home/luis/spark/lib/python3.9/site-packages/pyspark/jars/spark-unsafe_2.12-3.2.1.jar) to constructor java.nio.DirectByteBuffer(long,int)\n",
      "WARNING: Please consider reporting this to the maintainers of org.apache.spark.unsafe.Platform\n",
      "WARNING: Use --illegal-access=warn to enable warnings of further illegal reflective access operations\n",
      "WARNING: All illegal access operations will be denied in a future release\n",
      "Using Spark's default log4j profile: org/apache/spark/log4j-defaults.properties\n",
      "Setting default log level to \"WARN\".\n",
      "To adjust logging level use sc.setLogLevel(newLevel). For SparkR, use setLogLevel(newLevel).\n",
      "22/03/27 21:15:52 WARN NativeCodeLoader: Unable to load native-hadoop library for your platform... using builtin-java classes where applicable\n"
     ]
    }
   ],
   "source": [
    "sc = SparkContext(master=\"local\", appName=\"transformacionesyAcciones\")"
   ]
  },
  {
   "cell_type": "code",
   "execution_count": 7,
   "id": "09d2a962",
   "metadata": {},
   "outputs": [
    {
     "data": {
      "text/plain": [
       "pyspark.rdd.RDD"
      ]
     },
     "execution_count": 7,
     "metadata": {},
     "output_type": "execute_result"
    }
   ],
   "source": [
    "rdd1 = sc.parallelize([1,2,3])\n",
    "type(rdd1)"
   ]
  },
  {
   "cell_type": "code",
   "execution_count": 5,
   "id": "65bce804",
   "metadata": {},
   "outputs": [
    {
     "name": "stderr",
     "output_type": "stream",
     "text": [
      "\r",
      "[Stage 0:>                                                          (0 + 1) / 1]\r",
      "\r",
      "                                                                                \r"
     ]
    },
    {
     "data": {
      "text/plain": [
       "[1, 2, 3]"
      ]
     },
     "execution_count": 5,
     "metadata": {},
     "output_type": "execute_result"
    }
   ],
   "source": [
    "rdd1.collect()"
   ]
  },
  {
   "cell_type": "code",
   "execution_count": 8,
   "id": "0832c723",
   "metadata": {},
   "outputs": [
    {
     "name": "stdout",
     "output_type": "stream",
     "text": [
      "deporte.csv\t deportistaError.csv  modelo_relacional.jpg\r\n",
      "deportista2.csv  evento.csv\t      paises.csv\r\n",
      "deportista.csv\t juegos.csv\t      resultados.csv\r\n"
     ]
    }
   ],
   "source": [
    "!ls ../files"
   ]
  },
  {
   "cell_type": "code",
   "execution_count": 8,
   "id": "3e5e9605",
   "metadata": {},
   "outputs": [],
   "source": [
    "equiposOlimpicosrdd = sc.textFile(\"../files/paises.csv\") \\\n",
    "                      .map(lambda line : line.split(\",\"))"
   ]
  },
  {
   "cell_type": "code",
   "execution_count": 9,
   "id": "c4e42e92",
   "metadata": {},
   "outputs": [
    {
     "name": "stderr",
     "output_type": "stream",
     "text": [
      "                                                                                \r"
     ]
    },
    {
     "data": {
      "text/plain": [
       "[['id', 'equipo', 'sigla'],\n",
       " ['1', '30. Februar', 'AUT'],\n",
       " ['2', 'A North American Team', 'MEX'],\n",
       " ['3', 'Acipactli', 'MEX'],\n",
       " ['4', 'Acturus', 'ARG'],\n",
       " ['5', 'Afghanistan', 'AFG'],\n",
       " ['6', 'Akatonbo', 'IRL'],\n",
       " ['7', 'Alain IV', 'SUI'],\n",
       " ['8', 'Albania', 'ALB'],\n",
       " ['9', 'Alcaid', 'POR'],\n",
       " ['10', 'Alcyon-6', 'FRA'],\n",
       " ['11', 'Alcyon-7', 'FRA'],\n",
       " ['12', 'Aldebaran', 'ITA'],\n",
       " ['13', 'Aldebaran II', 'ITA'],\n",
       " ['14', 'Aletta', 'IRL']]"
      ]
     },
     "execution_count": 9,
     "metadata": {},
     "output_type": "execute_result"
    }
   ],
   "source": [
    "equiposOlimpicosrdd.take(15)"
   ]
  },
  {
   "cell_type": "code",
   "execution_count": 33,
   "id": "e93657f9",
   "metadata": {},
   "outputs": [
    {
     "name": "stderr",
     "output_type": "stream",
     "text": [
      "                                                                                \r"
     ]
    },
    {
     "data": {
      "text/plain": [
       "231"
      ]
     },
     "execution_count": 33,
     "metadata": {},
     "output_type": "execute_result"
    }
   ],
   "source": [
    "equiposOlimpicosrdd.map(lambda x: (x[2])).distinct().count()"
   ]
  },
  {
   "cell_type": "code",
   "execution_count": 10,
   "id": "e4a9ef69",
   "metadata": {},
   "outputs": [
    {
     "name": "stderr",
     "output_type": "stream",
     "text": [
      "                                                                                \r"
     ]
    },
    {
     "data": {
      "text/plain": [
       "[('sigla', 1), ('AUT', 11), ('MEX', 9), ('ARG', 18), ('AFG', 1)]"
      ]
     },
     "execution_count": 10,
     "metadata": {},
     "output_type": "execute_result"
    }
   ],
   "source": [
    "equiposOlimpicosrdd.map(lambda x: (x[2], x[1])).groupByKey().mapValues(len).take(5)"
   ]
  },
  {
   "cell_type": "code",
   "execution_count": 11,
   "id": "766b92ae",
   "metadata": {},
   "outputs": [
    {
     "data": {
      "text/plain": [
       "[['2', 'A North American Team', 'MEX'],\n",
       " ['3', 'Acipactli', 'MEX'],\n",
       " ['193', 'Chamukina', 'MEX'],\n",
       " ['656', 'Mexico', 'MEX'],\n",
       " ['657', 'Mexico-1', 'MEX'],\n",
       " ['658', 'Mexico-2', 'MEX'],\n",
       " ['700', 'Nausikaa 4', 'MEX'],\n",
       " ['1053', 'Tlaloc', 'MEX'],\n",
       " ['1168', 'Xolotl', 'MEX']]"
      ]
     },
     "execution_count": 11,
     "metadata": {},
     "output_type": "execute_result"
    }
   ],
   "source": [
    "equipos_argentinos = equiposOlimpicosrdd.filter(lambda l: \"MEX\" in l)\n",
    "equipos_argentinos.collect()"
   ]
  },
  {
   "cell_type": "code",
   "execution_count": 12,
   "id": "d9d2ce01",
   "metadata": {},
   "outputs": [
    {
     "data": {
      "text/plain": [
       "1185"
      ]
     },
     "execution_count": 12,
     "metadata": {},
     "output_type": "execute_result"
    }
   ],
   "source": [
    "equiposOlimpicosrdd.count()"
   ]
  },
  {
   "cell_type": "code",
   "execution_count": 13,
   "id": "eae82920",
   "metadata": {},
   "outputs": [
    {
     "data": {
      "text/plain": [
       "1185"
      ]
     },
     "execution_count": 13,
     "metadata": {},
     "output_type": "execute_result"
    }
   ],
   "source": [
    "equiposOlimpicosrdd.countApprox(20)"
   ]
  },
  {
   "cell_type": "code",
   "execution_count": 3,
   "id": "60c3003b",
   "metadata": {},
   "outputs": [
    {
     "name": "stdout",
     "output_type": "stream",
     "text": [
      "deporte.csv\t deportistaError.csv  modelo_relacional.jpg\r\n",
      "deportista2.csv  evento.csv\t      paises.csv\r\n",
      "deportista.csv\t juegos.csv\t      resultados.csv\r\n"
     ]
    }
   ],
   "source": [
    "! ls ../files"
   ]
  },
  {
   "cell_type": "code",
   "execution_count": 15,
   "id": "dd0c10b7",
   "metadata": {},
   "outputs": [],
   "source": [
    "deportistaOlimpicoRDD = sc.textFile(\"../files/deportista.csv\") \\\n",
    "                        .map(lambda l: l.split(\",\"))\n",
    "deportistaOlimpicoRDD2 = sc.textFile(\"../files/deportista2.csv\") \\\n",
    "                        .map(lambda l: l.split(\",\"))"
   ]
  },
  {
   "cell_type": "code",
   "execution_count": 16,
   "id": "089cc3c2",
   "metadata": {},
   "outputs": [],
   "source": [
    "deportistaOlimpicoRDD=deportistaOlimpicoRDD \\\n",
    "                      .union(deportistaOlimpicoRDD2)"
   ]
  },
  {
   "cell_type": "code",
   "execution_count": 19,
   "id": "8e0f3956",
   "metadata": {},
   "outputs": [
    {
     "data": {
      "text/plain": [
       "135572"
      ]
     },
     "execution_count": 19,
     "metadata": {},
     "output_type": "execute_result"
    }
   ],
   "source": [
    "deportistaOlimpicoRDD.count()"
   ]
  },
  {
   "cell_type": "code",
   "execution_count": 20,
   "id": "fcd4e0d8",
   "metadata": {},
   "outputs": [
    {
     "data": {
      "text/plain": [
       "[['id', 'equipo', 'sigla'], ['999', 'Stella-2', 'NOR']]"
      ]
     },
     "execution_count": 20,
     "metadata": {},
     "output_type": "execute_result"
    }
   ],
   "source": [
    "equiposOlimpicosrdd.top(2)"
   ]
  },
  {
   "cell_type": "code",
   "execution_count": 21,
   "id": "cecc0af2",
   "metadata": {},
   "outputs": [
    {
     "data": {
      "text/plain": [
       "[['deportista_id', 'nombre', 'genero', 'edad', 'altura', 'peso', 'equipo_id'],\n",
       " ['99999', 'Alexander Grant Alick Rennie', '1', '32', '182', '71', '967']]"
      ]
     },
     "execution_count": 21,
     "metadata": {},
     "output_type": "execute_result"
    }
   ],
   "source": [
    "deportistaOlimpicoRDD.top(2)"
   ]
  },
  {
   "cell_type": "code",
   "execution_count": 24,
   "id": "e6f59c5a",
   "metadata": {},
   "outputs": [
    {
     "name": "stderr",
     "output_type": "stream",
     "text": [
      "                                                                                \r"
     ]
    },
    {
     "data": {
      "text/plain": [
       "[['199', (['1', 'A Dijiang', '1', '24', '180', '80'], 'China')],\n",
       " ['199', (['2', 'A Lamusi', '1', '23', '170', '60'], 'China')],\n",
       " ['199', (['602', 'Abudoureheman', '1', '22', '182', '75'], 'China')],\n",
       " ['199', (['1463', 'Ai Linuer', '1', '25', '160', '62'], 'China')],\n",
       " ['199', (['1464', 'Ai Yanhan', '2', '14', '168', '54'], 'China')],\n",
       " ['199', (['3605', 'An Weijiang', '1', '22', '178', '72'], 'China')]]"
      ]
     },
     "execution_count": 24,
     "metadata": {},
     "output_type": "execute_result"
    }
   ],
   "source": [
    "deportistaOlimpicoRDD.map(lambda l: [l[-1], l[:-1]]) \\\n",
    "                    .join(equiposOlimpicosrdd).map(lambda x : [x[0], x[-1]]) \\\n",
    "                    .take(6)"
   ]
  },
  {
   "cell_type": "code",
   "execution_count": 39,
   "id": "9f54cc07",
   "metadata": {},
   "outputs": [
    {
     "name": "stderr",
     "output_type": "stream",
     "text": [
      "                                                                                \r"
     ]
    }
   ],
   "source": [
    "deportistaJoin =  deportistaOlimpicoRDD.map(lambda l: [l[-1], l[:-1]]) \\\n",
    "                    .join(equiposOlimpicosrdd).map(lambda x : [x[0], x[-1]])\n"
   ]
  },
  {
   "cell_type": "code",
   "execution_count": 43,
   "id": "a9b755ab",
   "metadata": {},
   "outputs": [
    {
     "name": "stdout",
     "output_type": "stream",
     "text": [
      "[['507', (['73449', 'Mario Giovanni Marcello Magnozzi', '1', '22', '0', '0'], 'Italy')], ['874', (['16499', 'Pavel Vladimirovich Bure', '1', '26', '180', '86'], 'Russia')], ['174', (['106127', 'Graeme Saunders', '1', '26', '176', '64'], 'Canada')], ['362', (['85410', 'Claude Netter', '1', '27', '177', '75'], 'France')], ['816', (['38243', 'Vtor Manuel Gomes Gamito', '1', '30', '183', '66'], 'Portugal')], ['1019', (['37680', 'Philippe Furrer', '1', '24', '187', '93'], 'Switzerland')]]\n"
     ]
    }
   ],
   "source": [
    "print(deportistaJoin)"
   ]
  },
  {
   "cell_type": "code",
   "execution_count": 31,
   "id": "76f354a1",
   "metadata": {},
   "outputs": [
    {
     "data": {
      "text/plain": [
       "[['resultado_id', 'medalla', 'deportista_id', 'juego_id', 'evento_id'],\n",
       " ['1', 'NA', '1', '39', '1']]"
      ]
     },
     "execution_count": 31,
     "metadata": {},
     "output_type": "execute_result"
    }
   ],
   "source": [
    "resultadosOlimpicosRDD = sc.textFile(\"../files/resultados.csv\").map(lambda l: l.split(\",\"))\n",
    "resultadosOlimpicosRDD.take(2)"
   ]
  },
  {
   "cell_type": "code",
   "execution_count": 32,
   "id": "cc11b783",
   "metadata": {},
   "outputs": [
    {
     "data": {
      "text/plain": [
       "[['resultado_id', 'medalla', 'deportista_id', 'juego_id', 'evento_id'],\n",
       " ['4', 'Gold', '4', '2', '4']]"
      ]
     },
     "execution_count": 32,
     "metadata": {},
     "output_type": "execute_result"
    }
   ],
   "source": [
    "resultadosOlimpicosRDD = resultadosOlimpicosRDD.filter(lambda l: 'NA' not in l[1])\n",
    "resultadosOlimpicosRDD.take(2)"
   ]
  },
  {
   "cell_type": "code",
   "execution_count": 48,
   "id": "73bb6000",
   "metadata": {},
   "outputs": [
    {
     "name": "stderr",
     "output_type": "stream",
     "text": [
      "                                                                                \r"
     ]
    },
    {
     "data": {
      "text/plain": [
       "[[(['2', 'A North American Team'], 'A Lamusi'), ('2',)]]"
      ]
     },
     "execution_count": 48,
     "metadata": {},
     "output_type": "execute_result"
    }
   ],
   "source": [
    "equiposOlimpicosrdd.map(lambda l: [l[0], l[:-1]]) \\\n",
    "                 .join(deportistaOlimpicoRDD).map(lambda x : [x[-1], x[:-1]]) \\\n",
    "                 .take(1)\n",
    "                                         "
   ]
  },
  {
   "cell_type": "code",
   "execution_count": 63,
   "id": "9a86fcf0",
   "metadata": {},
   "outputs": [
    {
     "name": "stderr",
     "output_type": "stream",
     "text": [
      "                                                                                \r"
     ]
    },
    {
     "data": {
      "text/plain": [
       "[('199', (['1', 'A Dijiang', '1', '24', '180', '80'], 'CHN')),\n",
       " ('199', (['2', 'A Lamusi', '1', '23', '170', '60'], 'CHN'))]"
      ]
     },
     "execution_count": 63,
     "metadata": {},
     "output_type": "execute_result"
    }
   ],
   "source": [
    " deportistaOlimpicoRDD.map(lambda l: [l[-1], l[:-1]]) \\\n",
    "                    .join(equiposOlimpicosrdd.map(lambda x : [x[0], x[2]])) \\\n",
    "                    .take(2)"
   ]
  },
  {
   "cell_type": "code",
   "execution_count": 67,
   "id": "34749ed0",
   "metadata": {},
   "outputs": [
    {
     "name": "stderr",
     "output_type": "stream",
     "text": [
      "                                                                                \r"
     ]
    },
    {
     "data": {
      "text/plain": [
       "[('7597', ('Bao Yingying', 'Silver')),\n",
       " ('17282', ('Cai Huijue', 'Bronze')),\n",
       " ('17996', ('Cao Mianying', 'Silver')),\n",
       " ('19779', ('Chang Si', 'Silver')),\n",
       " ('19791', ('Chang Yongxiang', 'Silver')),\n",
       " ('20215', ('Chen Jin', 'Bronze'))]"
      ]
     },
     "execution_count": 67,
     "metadata": {},
     "output_type": "execute_result"
    }
   ],
   "source": [
    " deportistaOlimpicoRDD.map(lambda l: [l[-1], l[:-1]]) \\\n",
    "                    .join(equiposOlimpicosrdd.map(lambda x : [x[0], x[2]])) \\\n",
    "                    .map(lambda y: [y[1][0][0], y[1][0][1]]) \\\n",
    "                    .join(resultadosOlimpicosRDD.map(lambda z: [z[2], z[1]])) \\\n",
    "                    .take(6)"
   ]
  }
 ],
 "metadata": {
  "kernelspec": {
   "display_name": "Python 3 (ipykernel)",
   "language": "python",
   "name": "python3"
  },
  "language_info": {
   "codemirror_mode": {
    "name": "ipython",
    "version": 3
   },
   "file_extension": ".py",
   "mimetype": "text/x-python",
   "name": "python",
   "nbconvert_exporter": "python",
   "pygments_lexer": "ipython3",
   "version": "3.9.7"
  }
 },
 "nbformat": 4,
 "nbformat_minor": 5
}
